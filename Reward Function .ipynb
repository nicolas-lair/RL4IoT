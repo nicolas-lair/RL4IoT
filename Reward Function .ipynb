{
 "cells": [
  {
   "cell_type": "code",
   "execution_count": 9,
   "metadata": {
    "ExecuteTime": {
     "end_time": "2020-07-22T10:16:32.186052Z",
     "start_time": "2020-07-22T10:16:32.095022Z"
    }
   },
   "outputs": [
    {
     "name": "stdout",
     "output_type": "stream",
     "text": [
      "The autoreload extension is already loaded. To reload it, use:\n",
      "  %reload_ext autoreload\n"
     ]
    }
   ],
   "source": [
    "%load_ext autoreload\n",
    "%autoreload 2"
   ]
  },
  {
   "cell_type": "code",
   "execution_count": 10,
   "metadata": {
    "ExecuteTime": {
     "end_time": "2020-07-22T10:16:33.204377Z",
     "start_time": "2020-07-22T10:16:32.930519Z"
    }
   },
   "outputs": [],
   "source": [
    "import sys\n",
    "sys.path.insert(0,'src/')\n",
    "\n",
    "from collections import namedtuple\n",
    "\n",
    "import torch \n",
    "from torch.utils.data import Dataset, DataLoader\n",
    "import joblib\n",
    "from torch import nn \n",
    "from sklearn.preprocessing import OneHotEncoder\n",
    "import numpy as np\n",
    "\n",
    "\n",
    "from architecture.reward import LearnedReward, StateDataset\n",
    "from architecture.language_model import LanguageModel\n",
    "from simulator.description_embedder import Description_embedder\n",
    "from simulator.Environment import preprocess_raw_observation\n",
    "from simulator.Items import ITEM_TYPE\n",
    "from config import generate_params\n",
    "\n",
    "params = generate_params(save_path=False)"
   ]
  },
  {
   "cell_type": "code",
   "execution_count": 4,
   "metadata": {
    "ExecuteTime": {
     "end_time": "2020-07-22T10:09:44.616205Z",
     "start_time": "2020-07-22T10:09:41.493823Z"
    }
   },
   "outputs": [],
   "source": [
    "# EpisodeRecord = namedtuple('EpisodeRecord', ('initial_state', 'final_state', 'instruction', 'reward'))\n",
    "# episode_path = 'results/episodes_records.jbl'\n",
    "# episodes = joblib.load(episode_path)\n",
    "\n",
    "StateRecord = namedtuple('StateRecord', ('state', 'instruction', 'reward'))\n",
    "state_path = 'results/state_records.jbl'\n",
    "states = joblib.load(state_path)"
   ]
  },
  {
   "cell_type": "code",
   "execution_count": 5,
   "metadata": {
    "ExecuteTime": {
     "end_time": "2020-07-22T10:10:01.095606Z",
     "start_time": "2020-07-22T10:09:56.839098Z"
    }
   },
   "outputs": [],
   "source": [
    "description_embedder = Description_embedder(**params['env_params']['description_embedder_params'])\n",
    "\n",
    "item_type_embedder = OneHotEncoder(sparse=False)\n",
    "item_type_embedder.fit(np.array(ITEM_TYPE).reshape(-1, 1))\n",
    "\n",
    "from functools import partial\n",
    "transformer = partial(preprocess_raw_observation, description_embedder=description_embedder, item_type_embedder=item_type_embedder, raw_state_size=3, pytorch=True, device='cuda:1')\n",
    "\n",
    "dts = StateDataset.from_files(state_path, raw_state_transformer=transformer)\n",
    "train_dts, test_dts = dts.split(train_test_ratio = 0.7)\n",
    "train_loader = DataLoader(train_dts, batch_size=3, shuffle=True)"
   ]
  },
  {
   "cell_type": "code",
   "execution_count": 103,
   "metadata": {
    "ExecuteTime": {
     "end_time": "2020-07-21T15:28:43.371815Z",
     "start_time": "2020-07-21T15:28:42.273005Z"
    }
   },
   "outputs": [
    {
     "data": {
      "text/plain": [
       "LearnedReward(\n",
       "  (context_net): FlatStateNet()\n",
       "  (language_model): LanguageModel(\n",
       "    (embedding_layer): Embedding(400000, 100)\n",
       "    (lstm): LSTM(100, 100, bias=False, batch_first=True)\n",
       "  )\n",
       "  (reward_layer): Linear(in_features=212, out_features=1, bias=True)\n",
       ")"
      ]
     },
     "execution_count": 103,
     "metadata": {},
     "output_type": "execute_result"
    }
   ],
   "source": [
    "language_model = LanguageModel(**params['language_model_params'])\n",
    "reward = LearnedReward(context_model=params['model_params']['context_model'], language_model=language_model, reward_params=params['reward_model_params'])\n",
    "reward.to('cuda:1')"
   ]
  },
  {
   "cell_type": "code",
   "execution_count": 8,
   "metadata": {
    "ExecuteTime": {
     "end_time": "2020-07-22T10:12:15.708909Z",
     "start_time": "2020-07-22T10:12:13.363945Z"
    }
   },
   "outputs": [
    {
     "data": {
      "text/plain": [
       "{'state': {'first plug': {'switch_binary': tensor([[-0.1448, -0.0486,  0.4747, -0.3888,  0.1440, -0.0708, -0.2636,  0.1610,\n",
       "            -0.1533,  0.0830,  0.2066, -0.0049,  0.1361,  0.1452,  0.2833, -0.4874,\n",
       "             0.1362,  0.0941, -0.2673, -0.1039,  0.3777, -0.1584,  0.5419,  0.0702,\n",
       "             0.5689, -0.0347, -0.1799, -0.2112,  0.0585, -0.0346, -0.0213,  0.5968,\n",
       "            -0.1230,  0.1413, -0.2211,  0.2017, -0.0221,  0.0932, -0.1351, -0.1498,\n",
       "            -0.3616, -0.4191,  0.1478, -0.2925, -0.2135,  0.0494,  0.0854, -0.4467,\n",
       "             0.1087, -0.5263, -0.2297,  0.2225, -0.0679,  1.2398, -0.1259, -2.5852,\n",
       "            -0.1366, -0.2021,  1.8878,  0.6584, -0.1862,  0.5954, -0.1002,  0.4102,\n",
       "             0.7728, -0.0163,  0.2757,  0.0341,  0.2244, -0.0811, -0.2381, -0.2915,\n",
       "            -0.0548, -0.5484,  0.0988, -0.0371, -0.1928,  0.0544, -0.6491,  0.0474,\n",
       "             0.7331, -0.0205, -0.4662,  0.2406, -1.1614, -0.1591,  0.1063,  0.1138,\n",
       "            -0.0800, -0.4124, -0.2104, -0.1671, -0.3682,  0.4025, -0.7623, -0.0093,\n",
       "            -0.2145, -0.2026,  0.8356,  0.0180,  0.0000,  0.0000,  0.0000,  0.0000,\n",
       "             0.0000,  0.0000,  0.0000,  0.0000,  1.0000,  1.0000,  0.0000,  0.0000],\n",
       "           [-0.1448, -0.0486,  0.4747, -0.3888,  0.1440, -0.0708, -0.2636,  0.1610,\n",
       "            -0.1533,  0.0830,  0.2066, -0.0049,  0.1361,  0.1452,  0.2833, -0.4874,\n",
       "             0.1362,  0.0941, -0.2673, -0.1039,  0.3777, -0.1584,  0.5419,  0.0702,\n",
       "             0.5689, -0.0347, -0.1799, -0.2112,  0.0585, -0.0346, -0.0213,  0.5968,\n",
       "            -0.1230,  0.1413, -0.2211,  0.2017, -0.0221,  0.0932, -0.1351, -0.1498,\n",
       "            -0.3616, -0.4191,  0.1478, -0.2925, -0.2135,  0.0494,  0.0854, -0.4467,\n",
       "             0.1087, -0.5263, -0.2297,  0.2225, -0.0679,  1.2398, -0.1259, -2.5852,\n",
       "            -0.1366, -0.2021,  1.8878,  0.6584, -0.1862,  0.5954, -0.1002,  0.4102,\n",
       "             0.7728, -0.0163,  0.2757,  0.0341,  0.2244, -0.0811, -0.2381, -0.2915,\n",
       "            -0.0548, -0.5484,  0.0988, -0.0371, -0.1928,  0.0544, -0.6491,  0.0474,\n",
       "             0.7331, -0.0205, -0.4662,  0.2406, -1.1614, -0.1591,  0.1063,  0.1138,\n",
       "            -0.0800, -0.4124, -0.2104, -0.1671, -0.3682,  0.4025, -0.7623, -0.0093,\n",
       "            -0.2145, -0.2026,  0.8356,  0.0180,  0.0000,  0.0000,  0.0000,  0.0000,\n",
       "             0.0000,  0.0000,  0.0000,  0.0000,  1.0000,  0.0000,  0.0000,  0.0000],\n",
       "           [-0.1448, -0.0486,  0.4747, -0.3888,  0.1440, -0.0708, -0.2636,  0.1610,\n",
       "            -0.1533,  0.0830,  0.2066, -0.0049,  0.1361,  0.1452,  0.2833, -0.4874,\n",
       "             0.1362,  0.0941, -0.2673, -0.1039,  0.3777, -0.1584,  0.5419,  0.0702,\n",
       "             0.5689, -0.0347, -0.1799, -0.2112,  0.0585, -0.0346, -0.0213,  0.5968,\n",
       "            -0.1230,  0.1413, -0.2211,  0.2017, -0.0221,  0.0932, -0.1351, -0.1498,\n",
       "            -0.3616, -0.4191,  0.1478, -0.2925, -0.2135,  0.0494,  0.0854, -0.4467,\n",
       "             0.1087, -0.5263, -0.2297,  0.2225, -0.0679,  1.2398, -0.1259, -2.5852,\n",
       "            -0.1366, -0.2021,  1.8878,  0.6584, -0.1862,  0.5954, -0.1002,  0.4102,\n",
       "             0.7728, -0.0163,  0.2757,  0.0341,  0.2244, -0.0811, -0.2381, -0.2915,\n",
       "            -0.0548, -0.5484,  0.0988, -0.0371, -0.1928,  0.0544, -0.6491,  0.0474,\n",
       "             0.7331, -0.0205, -0.4662,  0.2406, -1.1614, -0.1591,  0.1063,  0.1138,\n",
       "            -0.0800, -0.4124, -0.2104, -0.1671, -0.3682,  0.4025, -0.7623, -0.0093,\n",
       "            -0.2145, -0.2026,  0.8356,  0.0180,  0.0000,  0.0000,  0.0000,  0.0000,\n",
       "             0.0000,  0.0000,  0.0000,  0.0000,  1.0000,  0.0000,  0.0000,  0.0000]],\n",
       "          device='cuda:1', dtype=torch.float64)},\n",
       "  'first light bulb': {'color': tensor([[-2.8533e-01,  1.1090e-01,  1.6694e-01, -1.2060e-01,  6.6917e-02,\n",
       "             1.3602e-01, -2.0113e-01,  1.1506e-01, -5.6400e-02,  2.8907e-01,\n",
       "            -1.6828e-01, -2.5032e-01,  2.1178e-01, -1.8313e-01,  3.7593e-01,\n",
       "            -2.3947e-01,  4.4358e-02, -2.0844e-01, -1.0995e-02,  1.2482e-01,\n",
       "            -8.1303e-02, -2.2624e-01,  1.9847e-01,  3.4270e-02,  4.3942e-01,\n",
       "             9.1723e-02,  2.7194e-01, -1.6363e-01, -3.4338e-02, -4.0428e-01,\n",
       "             1.6747e-01,  5.3325e-01, -1.7149e-01,  1.2681e-01,  2.3721e-01,\n",
       "             1.2833e-01,  2.9177e-01,  3.3448e-01, -1.9192e-01, -2.4227e-01,\n",
       "            -8.3705e-02, -4.9234e-01, -1.8634e-01, -2.2243e-02, -1.4955e-01,\n",
       "             9.8258e-02,  1.1652e-01, -2.6218e-01, -8.5534e-02, -5.1974e-01,\n",
       "             1.5260e-01,  5.7978e-02,  2.2628e-03,  1.1461e+00, -1.4772e-02,\n",
       "            -1.9316e+00,  2.0922e-01, -8.2803e-02,  1.2613e+00,  3.0552e-01,\n",
       "            -2.2419e-02,  3.3487e-01, -1.9378e-01,  6.0147e-02,  6.4247e-01,\n",
       "             1.3910e-01,  2.8527e-01, -1.9984e-01,  2.3475e-01,  1.4803e-01,\n",
       "             2.4834e-02, -1.5707e-01,  2.2875e-01, -1.9225e-01,  2.5577e-01,\n",
       "             6.1447e-02, -1.2983e-01, -6.5310e-02, -5.5060e-01, -8.4891e-02,\n",
       "             2.1873e-01, -2.0002e-01, -3.3413e-01,  1.5231e-01, -7.9228e-01,\n",
       "             8.5763e-02,  1.6626e-01, -1.1933e-01,  1.5276e-01, -1.9831e-01,\n",
       "             7.2815e-02, -5.0308e-02, -3.1704e-01,  2.0447e-01, -4.0191e-01,\n",
       "            -6.3289e-02, -4.2418e-01, -5.6559e-01,  3.8381e-01,  3.3613e-01,\n",
       "             1.0000e+00,  0.0000e+00,  0.0000e+00,  0.0000e+00,  0.0000e+00,\n",
       "             0.0000e+00,  0.0000e+00,  0.0000e+00,  0.0000e+00,  2.4500e+02,\n",
       "             5.5000e+01,  1.3000e+01],\n",
       "           [-2.8533e-01,  1.1090e-01,  1.6694e-01, -1.2060e-01,  6.6917e-02,\n",
       "             1.3602e-01, -2.0113e-01,  1.1506e-01, -5.6400e-02,  2.8907e-01,\n",
       "            -1.6828e-01, -2.5032e-01,  2.1178e-01, -1.8313e-01,  3.7593e-01,\n",
       "            -2.3947e-01,  4.4358e-02, -2.0844e-01, -1.0995e-02,  1.2482e-01,\n",
       "            -8.1303e-02, -2.2624e-01,  1.9847e-01,  3.4270e-02,  4.3942e-01,\n",
       "             9.1723e-02,  2.7194e-01, -1.6363e-01, -3.4338e-02, -4.0428e-01,\n",
       "             1.6747e-01,  5.3325e-01, -1.7149e-01,  1.2681e-01,  2.3721e-01,\n",
       "             1.2833e-01,  2.9177e-01,  3.3448e-01, -1.9192e-01, -2.4227e-01,\n",
       "            -8.3705e-02, -4.9234e-01, -1.8634e-01, -2.2243e-02, -1.4955e-01,\n",
       "             9.8258e-02,  1.1652e-01, -2.6218e-01, -8.5534e-02, -5.1974e-01,\n",
       "             1.5260e-01,  5.7978e-02,  2.2628e-03,  1.1461e+00, -1.4772e-02,\n",
       "            -1.9316e+00,  2.0922e-01, -8.2803e-02,  1.2613e+00,  3.0552e-01,\n",
       "            -2.2419e-02,  3.3487e-01, -1.9378e-01,  6.0147e-02,  6.4247e-01,\n",
       "             1.3910e-01,  2.8527e-01, -1.9984e-01,  2.3475e-01,  1.4803e-01,\n",
       "             2.4834e-02, -1.5707e-01,  2.2875e-01, -1.9225e-01,  2.5577e-01,\n",
       "             6.1447e-02, -1.2983e-01, -6.5310e-02, -5.5060e-01, -8.4891e-02,\n",
       "             2.1873e-01, -2.0002e-01, -3.3413e-01,  1.5231e-01, -7.9228e-01,\n",
       "             8.5763e-02,  1.6626e-01, -1.1933e-01,  1.5276e-01, -1.9831e-01,\n",
       "             7.2815e-02, -5.0308e-02, -3.1704e-01,  2.0447e-01, -4.0191e-01,\n",
       "            -6.3289e-02, -4.2418e-01, -5.6559e-01,  3.8381e-01,  3.3613e-01,\n",
       "             1.0000e+00,  0.0000e+00,  0.0000e+00,  0.0000e+00,  0.0000e+00,\n",
       "             0.0000e+00,  0.0000e+00,  0.0000e+00,  0.0000e+00,  5.9000e+01,\n",
       "             9.2000e+01,  4.5000e+01],\n",
       "           [-2.8533e-01,  1.1090e-01,  1.6694e-01, -1.2060e-01,  6.6917e-02,\n",
       "             1.3602e-01, -2.0113e-01,  1.1506e-01, -5.6400e-02,  2.8907e-01,\n",
       "            -1.6828e-01, -2.5032e-01,  2.1178e-01, -1.8313e-01,  3.7593e-01,\n",
       "            -2.3947e-01,  4.4358e-02, -2.0844e-01, -1.0995e-02,  1.2482e-01,\n",
       "            -8.1303e-02, -2.2624e-01,  1.9847e-01,  3.4270e-02,  4.3942e-01,\n",
       "             9.1723e-02,  2.7194e-01, -1.6363e-01, -3.4338e-02, -4.0428e-01,\n",
       "             1.6747e-01,  5.3325e-01, -1.7149e-01,  1.2681e-01,  2.3721e-01,\n",
       "             1.2833e-01,  2.9177e-01,  3.3448e-01, -1.9192e-01, -2.4227e-01,\n",
       "            -8.3705e-02, -4.9234e-01, -1.8634e-01, -2.2243e-02, -1.4955e-01,\n",
       "             9.8258e-02,  1.1652e-01, -2.6218e-01, -8.5534e-02, -5.1974e-01,\n",
       "             1.5260e-01,  5.7978e-02,  2.2628e-03,  1.1461e+00, -1.4772e-02,\n",
       "            -1.9316e+00,  2.0922e-01, -8.2803e-02,  1.2613e+00,  3.0552e-01,\n",
       "            -2.2419e-02,  3.3487e-01, -1.9378e-01,  6.0147e-02,  6.4247e-01,\n",
       "             1.3910e-01,  2.8527e-01, -1.9984e-01,  2.3475e-01,  1.4803e-01,\n",
       "             2.4834e-02, -1.5707e-01,  2.2875e-01, -1.9225e-01,  2.5577e-01,\n",
       "             6.1447e-02, -1.2983e-01, -6.5310e-02, -5.5060e-01, -8.4891e-02,\n",
       "             2.1873e-01, -2.0002e-01, -3.3413e-01,  1.5231e-01, -7.9228e-01,\n",
       "             8.5763e-02,  1.6626e-01, -1.1933e-01,  1.5276e-01, -1.9831e-01,\n",
       "             7.2815e-02, -5.0308e-02, -3.1704e-01,  2.0447e-01, -4.0191e-01,\n",
       "            -6.3289e-02, -4.2418e-01, -5.6559e-01,  3.8381e-01,  3.3613e-01,\n",
       "             1.0000e+00,  0.0000e+00,  0.0000e+00,  0.0000e+00,  0.0000e+00,\n",
       "             0.0000e+00,  0.0000e+00,  0.0000e+00,  0.0000e+00,  2.7400e+02,\n",
       "             6.1000e+01,  0.0000e+00]], device='cuda:1', dtype=torch.float64),\n",
       "   'color_temperature': tensor([[-2.7477e-01,  4.1004e-01,  4.6167e-01, -8.3487e-02, -1.1996e-01,\n",
       "             1.3052e-01,  1.0183e-01,  3.6154e-01, -3.4703e-01,  5.7510e-03,\n",
       "             4.5556e-01, -4.0555e-01, -2.2198e-02,  2.5203e-01,  5.7313e-01,\n",
       "            -2.7947e-01,  1.8290e-01, -2.7830e-01, -1.4838e-01,  3.1755e-01,\n",
       "             1.4861e-01,  1.4142e-01,  3.4666e-01,  3.5810e-01,  2.0396e-01,\n",
       "            -5.0170e-02,  2.6281e-01, -2.5584e-01,  1.6724e-01, -1.8734e-01,\n",
       "            -1.3146e-01,  7.1688e-01, -7.3109e-02, -4.3549e-02,  1.0122e-01,\n",
       "             1.9305e-01,  4.2883e-01,  4.4579e-01, -1.6512e-03,  5.8182e-02,\n",
       "            -2.8807e-01, -6.3380e-01, -1.9513e-01, -2.5271e-01,  1.6721e-01,\n",
       "            -3.1086e-01, -8.3882e-02, -3.0281e-01, -1.8691e-01, -6.7871e-01,\n",
       "             1.6872e-01, -7.9925e-02,  2.9325e-01,  9.4780e-01, -4.4499e-01,\n",
       "            -2.1222e+00, -1.5651e-02, -3.0746e-01,  1.3389e+00,  2.4205e-01,\n",
       "            -1.1614e-02,  3.8669e-01, -5.0525e-01,  1.7063e-01,  7.4825e-01,\n",
       "             1.7274e-01,  5.6498e-02, -2.8026e-01,  4.5282e-01,  2.9632e-02,\n",
       "            -2.1046e-01, -5.3883e-02,  5.4048e-02,  3.2266e-02,  2.7091e-01,\n",
       "            -1.2170e-01, -1.0526e-01, -7.8855e-02, -5.9057e-01, -1.5734e-01,\n",
       "             9.4049e-02, -1.3817e-01, -5.2125e-01,  2.0482e-01, -7.8934e-01,\n",
       "             2.1517e-01,  1.6145e-01, -5.5007e-02,  3.6246e-01,  3.4797e-02,\n",
       "            -1.2281e-01,  8.6714e-02, -1.5022e-01,  8.8473e-02, -6.9385e-01,\n",
       "             2.8105e-03, -3.5220e-01, -4.1549e-01,  5.4695e-01, -3.4995e-01,\n",
       "             0.0000e+00,  0.0000e+00,  1.0000e+00,  0.0000e+00,  0.0000e+00,\n",
       "             0.0000e+00,  0.0000e+00,  0.0000e+00,  0.0000e+00,  1.4000e+01,\n",
       "             0.0000e+00,  0.0000e+00],\n",
       "           [-2.7477e-01,  4.1004e-01,  4.6167e-01, -8.3487e-02, -1.1996e-01,\n",
       "             1.3052e-01,  1.0183e-01,  3.6154e-01, -3.4703e-01,  5.7510e-03,\n",
       "             4.5556e-01, -4.0555e-01, -2.2198e-02,  2.5203e-01,  5.7313e-01,\n",
       "            -2.7947e-01,  1.8290e-01, -2.7830e-01, -1.4838e-01,  3.1755e-01,\n",
       "             1.4861e-01,  1.4142e-01,  3.4666e-01,  3.5810e-01,  2.0396e-01,\n",
       "            -5.0170e-02,  2.6281e-01, -2.5584e-01,  1.6724e-01, -1.8734e-01,\n",
       "            -1.3146e-01,  7.1688e-01, -7.3109e-02, -4.3549e-02,  1.0122e-01,\n",
       "             1.9305e-01,  4.2883e-01,  4.4579e-01, -1.6512e-03,  5.8182e-02,\n",
       "            -2.8807e-01, -6.3380e-01, -1.9513e-01, -2.5271e-01,  1.6721e-01,\n",
       "            -3.1086e-01, -8.3882e-02, -3.0281e-01, -1.8691e-01, -6.7871e-01,\n",
       "             1.6872e-01, -7.9925e-02,  2.9325e-01,  9.4780e-01, -4.4499e-01,\n",
       "            -2.1222e+00, -1.5651e-02, -3.0746e-01,  1.3389e+00,  2.4205e-01,\n",
       "            -1.1614e-02,  3.8669e-01, -5.0525e-01,  1.7063e-01,  7.4825e-01,\n",
       "             1.7274e-01,  5.6498e-02, -2.8026e-01,  4.5282e-01,  2.9632e-02,\n",
       "            -2.1046e-01, -5.3883e-02,  5.4048e-02,  3.2266e-02,  2.7091e-01,\n",
       "            -1.2170e-01, -1.0526e-01, -7.8855e-02, -5.9057e-01, -1.5734e-01,\n",
       "             9.4049e-02, -1.3817e-01, -5.2125e-01,  2.0482e-01, -7.8934e-01,\n",
       "             2.1517e-01,  1.6145e-01, -5.5007e-02,  3.6246e-01,  3.4797e-02,\n",
       "            -1.2281e-01,  8.6714e-02, -1.5022e-01,  8.8473e-02, -6.9385e-01,\n",
       "             2.8105e-03, -3.5220e-01, -4.1549e-01,  5.4695e-01, -3.4995e-01,\n",
       "             0.0000e+00,  0.0000e+00,  1.0000e+00,  0.0000e+00,  0.0000e+00,\n",
       "             0.0000e+00,  0.0000e+00,  0.0000e+00,  0.0000e+00,  7.1000e+01,\n",
       "             0.0000e+00,  0.0000e+00],\n",
       "           [-2.7477e-01,  4.1004e-01,  4.6167e-01, -8.3487e-02, -1.1996e-01,\n",
       "             1.3052e-01,  1.0183e-01,  3.6154e-01, -3.4703e-01,  5.7510e-03,\n",
       "             4.5556e-01, -4.0555e-01, -2.2198e-02,  2.5203e-01,  5.7313e-01,\n",
       "            -2.7947e-01,  1.8290e-01, -2.7830e-01, -1.4838e-01,  3.1755e-01,\n",
       "             1.4861e-01,  1.4142e-01,  3.4666e-01,  3.5810e-01,  2.0396e-01,\n",
       "            -5.0170e-02,  2.6281e-01, -2.5584e-01,  1.6724e-01, -1.8734e-01,\n",
       "            -1.3146e-01,  7.1688e-01, -7.3109e-02, -4.3549e-02,  1.0122e-01,\n",
       "             1.9305e-01,  4.2883e-01,  4.4579e-01, -1.6512e-03,  5.8182e-02,\n",
       "            -2.8807e-01, -6.3380e-01, -1.9513e-01, -2.5271e-01,  1.6721e-01,\n",
       "            -3.1086e-01, -8.3882e-02, -3.0281e-01, -1.8691e-01, -6.7871e-01,\n",
       "             1.6872e-01, -7.9925e-02,  2.9325e-01,  9.4780e-01, -4.4499e-01,\n",
       "            -2.1222e+00, -1.5651e-02, -3.0746e-01,  1.3389e+00,  2.4205e-01,\n",
       "            -1.1614e-02,  3.8669e-01, -5.0525e-01,  1.7063e-01,  7.4825e-01,\n",
       "             1.7274e-01,  5.6498e-02, -2.8026e-01,  4.5282e-01,  2.9632e-02,\n",
       "            -2.1046e-01, -5.3883e-02,  5.4048e-02,  3.2266e-02,  2.7091e-01,\n",
       "            -1.2170e-01, -1.0526e-01, -7.8855e-02, -5.9057e-01, -1.5734e-01,\n",
       "             9.4049e-02, -1.3817e-01, -5.2125e-01,  2.0482e-01, -7.8934e-01,\n",
       "             2.1517e-01,  1.6145e-01, -5.5007e-02,  3.6246e-01,  3.4797e-02,\n",
       "            -1.2281e-01,  8.6714e-02, -1.5022e-01,  8.8473e-02, -6.9385e-01,\n",
       "             2.8105e-03, -3.5220e-01, -4.1549e-01,  5.4695e-01, -3.4995e-01,\n",
       "             0.0000e+00,  0.0000e+00,  1.0000e+00,  0.0000e+00,  0.0000e+00,\n",
       "             0.0000e+00,  0.0000e+00,  0.0000e+00,  0.0000e+00,  3.8000e+01,\n",
       "             0.0000e+00,  0.0000e+00]], device='cuda:1', dtype=torch.float64)}},\n",
       " 'instruction': ['You set the color of first light bulb to blue',\n",
       "  'You set the color of first light bulb to yellow',\n",
       "  'You set the color of first light bulb to green'],\n",
       " 'reward': tensor([ True,  True, False])}"
      ]
     },
     "execution_count": 8,
     "metadata": {},
     "output_type": "execute_result"
    }
   ],
   "source": [
    "next(iter(train_loader))"
   ]
  },
  {
   "cell_type": "code",
   "execution_count": 93,
   "metadata": {
    "ExecuteTime": {
     "end_time": "2020-07-21T15:26:06.873309Z",
     "start_time": "2020-07-21T15:26:05.046821Z"
    }
   },
   "outputs": [
    {
     "data": {
      "text/plain": [
       "torch.Size([112])"
      ]
     },
     "execution_count": 93,
     "metadata": {},
     "output_type": "execute_result"
    }
   ],
   "source": [
    "train_dts[0]['state']['first plug']['switch_binary'].size()"
   ]
  },
  {
   "cell_type": "code",
   "execution_count": 104,
   "metadata": {
    "ExecuteTime": {
     "end_time": "2020-07-21T15:28:55.564559Z",
     "start_time": "2020-07-21T15:28:55.508223Z"
    }
   },
   "outputs": [
    {
     "name": "stdout",
     "output_type": "stream",
     "text": [
      "0\n",
      "3\n",
      "3\n",
      "torch.Size([3, 112])\n"
     ]
    },
    {
     "ename": "RuntimeError",
     "evalue": "Sizes of tensors must match except in dimension 0. Got 1 and 3",
     "output_type": "error",
     "traceback": [
      "\u001b[0;31m---------------------------------------------------------------------------\u001b[0m",
      "\u001b[0;31mRuntimeError\u001b[0m                              Traceback (most recent call last)",
      "\u001b[0;32m<ipython-input-104-09e257664c9b>\u001b[0m in \u001b[0;36m<module>\u001b[0;34m\u001b[0m\n\u001b[1;32m      4\u001b[0m     \u001b[0mprint\u001b[0m\u001b[0;34m(\u001b[0m\u001b[0mlen\u001b[0m\u001b[0;34m(\u001b[0m\u001b[0mbatch\u001b[0m\u001b[0;34m[\u001b[0m\u001b[0;34m'reward'\u001b[0m\u001b[0;34m]\u001b[0m\u001b[0;34m)\u001b[0m\u001b[0;34m)\u001b[0m\u001b[0;34m\u001b[0m\u001b[0;34m\u001b[0m\u001b[0m\n\u001b[1;32m      5\u001b[0m     \u001b[0mprint\u001b[0m\u001b[0;34m(\u001b[0m\u001b[0mbatch\u001b[0m\u001b[0;34m[\u001b[0m\u001b[0;34m'state'\u001b[0m\u001b[0;34m]\u001b[0m\u001b[0;34m[\u001b[0m\u001b[0;34m'first plug'\u001b[0m\u001b[0;34m]\u001b[0m\u001b[0;34m[\u001b[0m\u001b[0;34m'switch_binary'\u001b[0m\u001b[0;34m]\u001b[0m\u001b[0;34m.\u001b[0m\u001b[0msize\u001b[0m\u001b[0;34m(\u001b[0m\u001b[0;34m)\u001b[0m\u001b[0;34m)\u001b[0m\u001b[0;34m\u001b[0m\u001b[0;34m\u001b[0m\u001b[0m\n\u001b[0;32m----> 6\u001b[0;31m     \u001b[0mprint\u001b[0m\u001b[0;34m(\u001b[0m\u001b[0mreward\u001b[0m\u001b[0;34m(\u001b[0m\u001b[0mstate\u001b[0m \u001b[0;34m=\u001b[0m \u001b[0mbatch\u001b[0m\u001b[0;34m[\u001b[0m\u001b[0;34m'state'\u001b[0m\u001b[0;34m]\u001b[0m\u001b[0;34m,\u001b[0m \u001b[0minstructions\u001b[0m\u001b[0;34m=\u001b[0m\u001b[0mbatch\u001b[0m\u001b[0;34m[\u001b[0m\u001b[0;34m'instruction'\u001b[0m\u001b[0;34m]\u001b[0m\u001b[0;34m)\u001b[0m\u001b[0;34m.\u001b[0m\u001b[0msize\u001b[0m\u001b[0;34m(\u001b[0m\u001b[0;34m)\u001b[0m\u001b[0;34m)\u001b[0m\u001b[0;34m\u001b[0m\u001b[0;34m\u001b[0m\u001b[0m\n\u001b[0m\u001b[1;32m      7\u001b[0m \u001b[0;34m\u001b[0m\u001b[0m\n\u001b[1;32m      8\u001b[0m     \u001b[0;32mif\u001b[0m \u001b[0mi\u001b[0m \u001b[0;34m==\u001b[0m \u001b[0;36m0\u001b[0m\u001b[0;34m:\u001b[0m\u001b[0;34m\u001b[0m\u001b[0;34m\u001b[0m\u001b[0m\n",
      "\u001b[0;32m~/miniconda3/envs/imagineIOT/lib/python3.8/site-packages/torch/nn/modules/module.py\u001b[0m in \u001b[0;36m__call__\u001b[0;34m(self, *input, **kwargs)\u001b[0m\n\u001b[1;32m    548\u001b[0m             \u001b[0mresult\u001b[0m \u001b[0;34m=\u001b[0m \u001b[0mself\u001b[0m\u001b[0;34m.\u001b[0m\u001b[0m_slow_forward\u001b[0m\u001b[0;34m(\u001b[0m\u001b[0;34m*\u001b[0m\u001b[0minput\u001b[0m\u001b[0;34m,\u001b[0m \u001b[0;34m**\u001b[0m\u001b[0mkwargs\u001b[0m\u001b[0;34m)\u001b[0m\u001b[0;34m\u001b[0m\u001b[0;34m\u001b[0m\u001b[0m\n\u001b[1;32m    549\u001b[0m         \u001b[0;32melse\u001b[0m\u001b[0;34m:\u001b[0m\u001b[0;34m\u001b[0m\u001b[0;34m\u001b[0m\u001b[0m\n\u001b[0;32m--> 550\u001b[0;31m             \u001b[0mresult\u001b[0m \u001b[0;34m=\u001b[0m \u001b[0mself\u001b[0m\u001b[0;34m.\u001b[0m\u001b[0mforward\u001b[0m\u001b[0;34m(\u001b[0m\u001b[0;34m*\u001b[0m\u001b[0minput\u001b[0m\u001b[0;34m,\u001b[0m \u001b[0;34m**\u001b[0m\u001b[0mkwargs\u001b[0m\u001b[0;34m)\u001b[0m\u001b[0;34m\u001b[0m\u001b[0;34m\u001b[0m\u001b[0m\n\u001b[0m\u001b[1;32m    551\u001b[0m         \u001b[0;32mfor\u001b[0m \u001b[0mhook\u001b[0m \u001b[0;32min\u001b[0m \u001b[0mself\u001b[0m\u001b[0;34m.\u001b[0m\u001b[0m_forward_hooks\u001b[0m\u001b[0;34m.\u001b[0m\u001b[0mvalues\u001b[0m\u001b[0;34m(\u001b[0m\u001b[0;34m)\u001b[0m\u001b[0;34m:\u001b[0m\u001b[0;34m\u001b[0m\u001b[0;34m\u001b[0m\u001b[0m\n\u001b[1;32m    552\u001b[0m             \u001b[0mhook_result\u001b[0m \u001b[0;34m=\u001b[0m \u001b[0mhook\u001b[0m\u001b[0;34m(\u001b[0m\u001b[0mself\u001b[0m\u001b[0;34m,\u001b[0m \u001b[0minput\u001b[0m\u001b[0;34m,\u001b[0m \u001b[0mresult\u001b[0m\u001b[0;34m)\u001b[0m\u001b[0;34m\u001b[0m\u001b[0;34m\u001b[0m\u001b[0m\n",
      "\u001b[0;32m~/PycharmProjects/imagineIoT/src/architecture/reward.py\u001b[0m in \u001b[0;36mforward\u001b[0;34m(self, state, instructions)\u001b[0m\n\u001b[1;32m     29\u001b[0m         \"\"\"\n\u001b[1;32m     30\u001b[0m         \u001b[0minstruction_embedding\u001b[0m \u001b[0;34m=\u001b[0m \u001b[0mself\u001b[0m\u001b[0;34m.\u001b[0m\u001b[0mlanguage_model\u001b[0m\u001b[0;34m(\u001b[0m\u001b[0minstructions\u001b[0m\u001b[0;34m)\u001b[0m\u001b[0;34m\u001b[0m\u001b[0;34m\u001b[0m\u001b[0m\n\u001b[0;32m---> 31\u001b[0;31m         \u001b[0mcontext\u001b[0m \u001b[0;34m=\u001b[0m \u001b[0mself\u001b[0m\u001b[0;34m.\u001b[0m\u001b[0mcontext_net\u001b[0m\u001b[0;34m(\u001b[0m\u001b[0mstate\u001b[0m\u001b[0;34m=\u001b[0m\u001b[0mstate\u001b[0m\u001b[0;34m,\u001b[0m \u001b[0minstruction\u001b[0m\u001b[0;34m=\u001b[0m\u001b[0minstruction_embedding\u001b[0m\u001b[0;34m)\u001b[0m\u001b[0;34m\u001b[0m\u001b[0;34m\u001b[0m\u001b[0m\n\u001b[0m\u001b[1;32m     32\u001b[0m         \u001b[0mreward\u001b[0m \u001b[0;34m=\u001b[0m \u001b[0mself\u001b[0m\u001b[0;34m.\u001b[0m\u001b[0mreward_layer\u001b[0m\u001b[0;34m(\u001b[0m\u001b[0mcontext\u001b[0m\u001b[0;34m)\u001b[0m\u001b[0;34m\u001b[0m\u001b[0;34m\u001b[0m\u001b[0m\n\u001b[1;32m     33\u001b[0m         \u001b[0;31m# reward = differentiable_or(x.view(-1))\u001b[0m\u001b[0;34m\u001b[0m\u001b[0;34m\u001b[0m\u001b[0;34m\u001b[0m\u001b[0m\n",
      "\u001b[0;32m~/miniconda3/envs/imagineIOT/lib/python3.8/site-packages/torch/nn/modules/module.py\u001b[0m in \u001b[0;36m__call__\u001b[0;34m(self, *input, **kwargs)\u001b[0m\n\u001b[1;32m    548\u001b[0m             \u001b[0mresult\u001b[0m \u001b[0;34m=\u001b[0m \u001b[0mself\u001b[0m\u001b[0;34m.\u001b[0m\u001b[0m_slow_forward\u001b[0m\u001b[0;34m(\u001b[0m\u001b[0;34m*\u001b[0m\u001b[0minput\u001b[0m\u001b[0;34m,\u001b[0m \u001b[0;34m**\u001b[0m\u001b[0mkwargs\u001b[0m\u001b[0;34m)\u001b[0m\u001b[0;34m\u001b[0m\u001b[0;34m\u001b[0m\u001b[0m\n\u001b[1;32m    549\u001b[0m         \u001b[0;32melse\u001b[0m\u001b[0;34m:\u001b[0m\u001b[0;34m\u001b[0m\u001b[0;34m\u001b[0m\u001b[0m\n\u001b[0;32m--> 550\u001b[0;31m             \u001b[0mresult\u001b[0m \u001b[0;34m=\u001b[0m \u001b[0mself\u001b[0m\u001b[0;34m.\u001b[0m\u001b[0mforward\u001b[0m\u001b[0;34m(\u001b[0m\u001b[0;34m*\u001b[0m\u001b[0minput\u001b[0m\u001b[0;34m,\u001b[0m \u001b[0;34m**\u001b[0m\u001b[0mkwargs\u001b[0m\u001b[0;34m)\u001b[0m\u001b[0;34m\u001b[0m\u001b[0;34m\u001b[0m\u001b[0m\n\u001b[0m\u001b[1;32m    551\u001b[0m         \u001b[0;32mfor\u001b[0m \u001b[0mhook\u001b[0m \u001b[0;32min\u001b[0m \u001b[0mself\u001b[0m\u001b[0;34m.\u001b[0m\u001b[0m_forward_hooks\u001b[0m\u001b[0;34m.\u001b[0m\u001b[0mvalues\u001b[0m\u001b[0;34m(\u001b[0m\u001b[0;34m)\u001b[0m\u001b[0;34m:\u001b[0m\u001b[0;34m\u001b[0m\u001b[0;34m\u001b[0m\u001b[0m\n\u001b[1;32m    552\u001b[0m             \u001b[0mhook_result\u001b[0m \u001b[0;34m=\u001b[0m \u001b[0mhook\u001b[0m\u001b[0;34m(\u001b[0m\u001b[0mself\u001b[0m\u001b[0;34m,\u001b[0m \u001b[0minput\u001b[0m\u001b[0;34m,\u001b[0m \u001b[0mresult\u001b[0m\u001b[0;34m)\u001b[0m\u001b[0;34m\u001b[0m\u001b[0;34m\u001b[0m\u001b[0m\n",
      "\u001b[0;32m~/PycharmProjects/imagineIoT/src/architecture/contextnet.py\u001b[0m in \u001b[0;36mforward\u001b[0;34m(self, state, instruction, hidden_state)\u001b[0m\n\u001b[1;32m     52\u001b[0m         \u001b[0;32mif\u001b[0m \u001b[0mhidden_state\u001b[0m \u001b[0;32mis\u001b[0m \u001b[0;32mnot\u001b[0m \u001b[0;32mNone\u001b[0m\u001b[0;34m:\u001b[0m\u001b[0;34m\u001b[0m\u001b[0;34m\u001b[0m\u001b[0m\n\u001b[1;32m     53\u001b[0m             \u001b[0mcontext\u001b[0m\u001b[0;34m.\u001b[0m\u001b[0mappend\u001b[0m\u001b[0;34m(\u001b[0m\u001b[0mhidden_state\u001b[0m\u001b[0;34m)\u001b[0m\u001b[0;34m\u001b[0m\u001b[0;34m\u001b[0m\u001b[0m\n\u001b[0;32m---> 54\u001b[0;31m         \u001b[0mcontext_tensor\u001b[0m \u001b[0;34m=\u001b[0m \u001b[0mtorch\u001b[0m\u001b[0;34m.\u001b[0m\u001b[0mcat\u001b[0m\u001b[0;34m(\u001b[0m\u001b[0mcontext\u001b[0m\u001b[0;34m,\u001b[0m \u001b[0mdim\u001b[0m\u001b[0;34m=\u001b[0m\u001b[0;36m1\u001b[0m\u001b[0;34m)\u001b[0m\u001b[0;34m\u001b[0m\u001b[0;34m\u001b[0m\u001b[0m\n\u001b[0m\u001b[1;32m     55\u001b[0m         \u001b[0;32mreturn\u001b[0m \u001b[0mcontext_tensor\u001b[0m\u001b[0;34m\u001b[0m\u001b[0;34m\u001b[0m\u001b[0m\n\u001b[1;32m     56\u001b[0m \u001b[0;34m\u001b[0m\u001b[0m\n",
      "\u001b[0;31mRuntimeError\u001b[0m: Sizes of tensors must match except in dimension 0. Got 1 and 3"
     ]
    }
   ],
   "source": [
    "for i, batch in enumerate(train_loader):\n",
    "    print(i)\n",
    "    print(len(batch['instruction']))\n",
    "    print(len(batch['reward']))\n",
    "    print(batch['state']['first plug']['switch_binary'].size())\n",
    "    print(reward(state = batch['state'], instructions=batch['instruction']).size())\n",
    "    \n",
    "    if i == 0:\n",
    "        break"
   ]
  },
  {
   "cell_type": "code",
   "execution_count": 1,
   "metadata": {
    "ExecuteTime": {
     "end_time": "2020-07-17T16:46:33.438152Z",
     "start_time": "2020-07-17T16:46:33.434317Z"
    }
   },
   "outputs": [],
   "source": [
    "class StateDataset(Dataset):\n",
    "    def __init__(self,)"
   ]
  },
  {
   "cell_type": "code",
   "execution_count": 7,
   "metadata": {
    "ExecuteTime": {
     "end_time": "2020-07-21T08:54:47.540388Z",
     "start_time": "2020-07-21T08:54:47.519224Z"
    }
   },
   "outputs": [
    {
     "name": "stdout",
     "output_type": "stream",
     "text": [
      "StateRecord(state={'first plug': {'switch_binary': {'state': [1], 'description': 'Switch the power on and off.', 'item_type': 'switch'}}, 'first light bulb': {'color': {'state': [319, 15, 0], 'description': 'This channel supports full color control with hue, saturation and brightness values', 'item_type': 'color'}, 'color_temperature': {'state': [70], 'description': 'This channel supports adjusting the color temperature from cold (0%) to warm (100%)', 'item_type': 'dimmer'}}}, instruction='You turned on the first light bulb', reward=False)\n"
     ]
    }
   ],
   "source": [
    "from pprint import pprint\n",
    "pprint(states[0])"
   ]
  },
  {
   "cell_type": "code",
   "execution_count": 2,
   "metadata": {
    "ExecuteTime": {
     "end_time": "2020-07-17T16:55:03.127859Z",
     "start_time": "2020-07-17T16:55:03.121197Z"
    }
   },
   "outputs": [],
   "source": [
    "def remove_key(state, key='embedding'):\n",
    "    s = state.copy()\n",
    "    try:\n",
    "        s.pop(key)\n",
    "    except KeyError:\n",
    "        pass\n",
    "    \n",
    "    for k, v in s.values():\n",
    "        if isinstance(v, dict):\n",
    "            s[k] = remove_key(v, key)\n",
    "    return s"
   ]
  },
  {
   "cell_type": "code",
   "execution_count": null,
   "metadata": {
    "ExecuteTime": {
     "end_time": "2020-07-17T16:51:01.493273Z",
     "start_time": "2020-07-17T16:50:55.082Z"
    }
   },
   "outputs": [],
   "source": [
    "remove_key(episodes[1]['initial_state'])"
   ]
  },
  {
   "cell_type": "code",
   "execution_count": 14,
   "metadata": {
    "ExecuteTime": {
     "end_time": "2020-07-17T16:53:06.231111Z",
     "start_time": "2020-07-17T16:53:06.226959Z"
    }
   },
   "outputs": [],
   "source": [
    "e = episodes[0]"
   ]
  },
  {
   "cell_type": "code",
   "execution_count": null,
   "metadata": {
    "ExecuteTime": {
     "end_time": "2020-07-17T16:54:43.411778Z",
     "start_time": "2020-07-17T16:53:10.222Z"
    }
   },
   "outputs": [],
   "source": [
    "e.final_state"
   ]
  },
  {
   "cell_type": "code",
   "execution_count": 6,
   "metadata": {
    "ExecuteTime": {
     "end_time": "2020-07-17T16:55:25.280365Z",
     "start_time": "2020-07-17T16:55:25.274855Z"
    }
   },
   "outputs": [],
   "source": [
    "def remove_key(state, key='embedding'):\n",
    "    s = state.copy()\n",
    "    if isinstance(s, dict):\n",
    "        try:\n",
    "            s.pop(key)\n",
    "        except KeyError:\n",
    "            pass\n",
    "    \n",
    "        for k, v in s.items():\n",
    "            if isinstance(v, dict):\n",
    "                s[k] = remove_key(v, key)\n",
    "    return s"
   ]
  },
  {
   "cell_type": "code",
   "execution_count": 9,
   "metadata": {
    "ExecuteTime": {
     "end_time": "2020-07-17T16:55:38.017309Z",
     "start_time": "2020-07-17T16:55:38.011777Z"
    }
   },
   "outputs": [],
   "source": [
    "d = {\n",
    "    'a': {\n",
    "        'aa':{\n",
    "            'aaa': 1,\n",
    "            'embedding': 0\n",
    "        },\n",
    "        'embedding': 2\n",
    "    },\n",
    "    'b':{\n",
    "        'embedding': 3\n",
    "    },\n",
    "    'embedding': 5\n",
    "}"
   ]
  },
  {
   "cell_type": "code",
   "execution_count": 10,
   "metadata": {
    "ExecuteTime": {
     "end_time": "2020-07-17T16:55:38.472191Z",
     "start_time": "2020-07-17T16:55:38.466051Z"
    }
   },
   "outputs": [
    {
     "data": {
      "text/plain": [
       "{'a': {'aa': {'aaa': 1}}, 'b': {}}"
      ]
     },
     "execution_count": 10,
     "metadata": {},
     "output_type": "execute_result"
    }
   ],
   "source": [
    "remove_key(d)"
   ]
  },
  {
   "cell_type": "code",
   "execution_count": 11,
   "metadata": {
    "ExecuteTime": {
     "end_time": "2020-07-21T09:01:01.630403Z",
     "start_time": "2020-07-21T09:01:01.608911Z"
    }
   },
   "outputs": [
    {
     "data": {
      "text/plain": [
       "{'state': {'first plug': {'switch_binary': {'state': [1],\n",
       "    'description': 'Switch the power on and off.',\n",
       "    'item_type': 'switch'}},\n",
       "  'first light bulb': {'color': {'state': [319, 15, 0],\n",
       "    'description': 'This channel supports full color control with hue, saturation and brightness values',\n",
       "    'item_type': 'color'},\n",
       "   'color_temperature': {'state': [70],\n",
       "    'description': 'This channel supports adjusting the color temperature from cold (0%) to warm (100%)',\n",
       "    'item_type': 'dimmer'}}},\n",
       " 'instruction': 'You turned on the first light bulb',\n",
       " 'reward': False}"
      ]
     },
     "execution_count": 11,
     "metadata": {},
     "output_type": "execute_result"
    }
   ],
   "source": [
    "a = states[0]\n",
    "a._asdict()"
   ]
  },
  {
   "cell_type": "code",
   "execution_count": 13,
   "metadata": {
    "ExecuteTime": {
     "end_time": "2020-07-21T09:03:49.905921Z",
     "start_time": "2020-07-21T09:03:49.886718Z"
    }
   },
   "outputs": [
    {
     "data": {
      "text/plain": [
       "('state', 'instruction', 'reward')"
      ]
     },
     "execution_count": 13,
     "metadata": {},
     "output_type": "execute_result"
    }
   ],
   "source": [
    "a._fields"
   ]
  },
  {
   "cell_type": "code",
   "execution_count": 14,
   "metadata": {
    "ExecuteTime": {
     "end_time": "2020-07-21T09:04:17.641754Z",
     "start_time": "2020-07-21T09:04:12.710183Z"
    }
   },
   "outputs": [
    {
     "name": "stdout",
     "output_type": "stream",
     "text": [
      "600 ns ± 36.2 ns per loop (mean ± std. dev. of 7 runs, 1000000 loops each)\n"
     ]
    }
   ],
   "source": [
    "%timeit a._asdict()"
   ]
  },
  {
   "cell_type": "code",
   "execution_count": 21,
   "metadata": {
    "ExecuteTime": {
     "end_time": "2020-07-21T09:07:32.877314Z",
     "start_time": "2020-07-21T09:07:27.359956Z"
    }
   },
   "outputs": [
    {
     "name": "stdout",
     "output_type": "stream",
     "text": [
      "670 ns ± 32.2 ns per loop (mean ± std. dev. of 7 runs, 1000000 loops each)\n"
     ]
    }
   ],
   "source": [
    "%timeit {k:a.__getattribute__(k) for k in a._fields}"
   ]
  },
  {
   "cell_type": "code",
   "execution_count": 16,
   "metadata": {
    "ExecuteTime": {
     "end_time": "2020-07-21T09:06:36.618199Z",
     "start_time": "2020-07-21T09:06:36.596414Z"
    }
   },
   "outputs": [
    {
     "data": {
      "text/plain": [
       "{'first plug': {'switch_binary': {'state': [1],\n",
       "   'description': 'Switch the power on and off.',\n",
       "   'item_type': 'switch'}},\n",
       " 'first light bulb': {'color': {'state': [319, 15, 0],\n",
       "   'description': 'This channel supports full color control with hue, saturation and brightness values',\n",
       "   'item_type': 'color'},\n",
       "  'color_temperature': {'state': [70],\n",
       "   'description': 'This channel supports adjusting the color temperature from cold (0%) to warm (100%)',\n",
       "   'item_type': 'dimmer'}}}"
      ]
     },
     "execution_count": 16,
     "metadata": {},
     "output_type": "execute_result"
    }
   ],
   "source": [
    "a.__getattribute__('state')"
   ]
  },
  {
   "cell_type": "code",
   "execution_count": null,
   "metadata": {},
   "outputs": [],
   "source": []
  }
 ],
 "metadata": {
  "kernelspec": {
   "display_name": "Python 3",
   "language": "python",
   "name": "python3"
  },
  "language_info": {
   "codemirror_mode": {
    "name": "ipython",
    "version": 3
   },
   "file_extension": ".py",
   "mimetype": "text/x-python",
   "name": "python",
   "nbconvert_exporter": "python",
   "pygments_lexer": "ipython3",
   "version": "3.8.3"
  },
  "latex_envs": {
   "LaTeX_envs_menu_present": true,
   "autoclose": false,
   "autocomplete": true,
   "bibliofile": "biblio.bib",
   "cite_by": "apalike",
   "current_citInitial": 1,
   "eqLabelWithNumbers": true,
   "eqNumInitial": 1,
   "hotkeys": {
    "equation": "Ctrl-E",
    "itemize": "Ctrl-I"
   },
   "labels_anchors": false,
   "latex_user_defs": false,
   "report_style_numbering": false,
   "user_envs_cfg": false
  },
  "toc": {
   "base_numbering": 1,
   "nav_menu": {},
   "number_sections": true,
   "sideBar": true,
   "skip_h1_title": false,
   "title_cell": "Table of Contents",
   "title_sidebar": "Contents",
   "toc_cell": false,
   "toc_position": {},
   "toc_section_display": true,
   "toc_window_display": false
  },
  "varInspector": {
   "cols": {
    "lenName": 16,
    "lenType": 16,
    "lenVar": 40
   },
   "kernels_config": {
    "python": {
     "delete_cmd_postfix": "",
     "delete_cmd_prefix": "del ",
     "library": "var_list.py",
     "varRefreshCmd": "print(var_dic_list())"
    },
    "r": {
     "delete_cmd_postfix": ") ",
     "delete_cmd_prefix": "rm(",
     "library": "var_list.r",
     "varRefreshCmd": "cat(var_dic_list()) "
    }
   },
   "types_to_exclude": [
    "module",
    "function",
    "builtin_function_or_method",
    "instance",
    "_Feature"
   ],
   "window_display": false
  }
 },
 "nbformat": 4,
 "nbformat_minor": 4
}
